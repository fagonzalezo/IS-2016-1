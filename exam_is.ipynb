{
 "cells": [
  {
   "cell_type": "markdown",
   "metadata": {},
   "source": [
    "# Exam\n",
    "# Intelligent Systems 2016-1"
   ]
  },
  {
   "cell_type": "markdown",
   "metadata": {},
   "source": [
    "After solving all the questions in the exam save your notebook with the name `username.ipynb` and submit it to: https://www.dropbox.com/request/ppnwCHBo3G2eVo1tJPdY\n",
    "\n",
    "---"
   ]
  },
  {
   "cell_type": "markdown",
   "metadata": {},
   "source": [
    "### 1. \n",
    "Consider the following Bayes net:\n",
    "\n",
    "![net](http://fagonzalezo.github.io/is-2016-1/net.png)\n",
    "\n",
    "where $A$, $B$ and $x_i$ are all binary variables.\n",
    "\n",
    "Write a function that takes as input a set of samples and calculates the parameter of the Bayes net model."
   ]
  },
  {
   "cell_type": "code",
   "execution_count": 11,
   "metadata": {
    "collapsed": true
   },
   "outputs": [],
   "source": [
    "def bn_model(data, k):\n",
    "    '''\n",
    "    data: training data as a list of lists\n",
    "    [[x_1, x_2, ..., X_n, A, B]\n",
    "     [x_1, x_2, ..., X_n, A, B]\n",
    "     :\n",
    "     [x_1, x_2, ..., X_n, A, B]\n",
    "    ]\n",
    "    \n",
    "    k: Laplace's smoothing parameter\n",
    "    \n",
    "    returns:\n",
    "    It must return the model as a dictionary with the following form:\n",
    "    For example:\n",
    "    { 'A' : 0.1,\n",
    "      ('B', 'A', 0) : 0.4\n",
    "      ('B', 'A', 1) : 0.7\n",
    "      ('x1', 'B', 0) : 0.3,\n",
    "      ('x1', 'B', 1) : 0.1,\n",
    "      ('x2', 'B', 0) : 0.2,\n",
    "      ('x2', 'B', 1) : 0.6,\n",
    "    }\n",
    "    In this case the entry for 'A' means that P(A = 1) = 0.4 and therefore P(A = 0) = 0.6.\n",
    "    In the same way, the entry for ('x1', 'B', 1) indicates that P(X_1 = 1 | B = 1) = 0.1 and\n",
    "    therefore P(X_1 = 0 | B = 1) = 0.9.\n",
    "    '''\n",
    "    return {}"
   ]
  },
  {
   "cell_type": "markdown",
   "metadata": {},
   "source": [
    "### 2. \n",
    "\n",
    "Write a function that given a model calculates $P(B|x_1,\\dots,x_n)$"
   ]
  },
  {
   "cell_type": "code",
   "execution_count": null,
   "metadata": {
    "collapsed": true
   },
   "outputs": [],
   "source": [
    "def p1(model, X):\n",
    "    '''\n",
    "    model: a dictionary with the model probabilities.\n",
    "    X: a list with x_i values [x_1, x_2, ... , x_n]\n",
    "    Returns: the probability P(B = 1 | x_1, x_2, ... , x_n)\n",
    "    '''\n",
    "    return 0"
   ]
  },
  {
   "cell_type": "markdown",
   "metadata": {},
   "source": [
    "### 3. \n",
    "\n",
    "Write a function that given a model calculates $P(A|x_1,\\dots,x_n)$"
   ]
  },
  {
   "cell_type": "code",
   "execution_count": 12,
   "metadata": {
    "collapsed": true
   },
   "outputs": [],
   "source": [
    "def p2(model, X):\n",
    "    '''\n",
    "    model: a dictionary with the model probabilities.\n",
    "    X: a list with x_i values [x_1, x_2, ... , x_n]\n",
    "    Returns: the probability P(A = 1 | x_1, x_2, ... , x_n)\n",
    "    '''\n",
    "    return 0"
   ]
  },
  {
   "cell_type": "markdown",
   "metadata": {},
   "source": [
    "### 4. \n",
    "\n",
    "Write a function that given a model calculates $P(A|x_1, x_n)$"
   ]
  },
  {
   "cell_type": "code",
   "execution_count": 13,
   "metadata": {
    "collapsed": true
   },
   "outputs": [],
   "source": [
    "def p3(model, x_1, x_n):\n",
    "    '''\n",
    "    model: a dictionary with the model probabilities.\n",
    "    x_1, x_n: x values\n",
    "    Returns: the probability P(A = 1 | x_1, x_n)\n",
    "    '''\n",
    "    return 0"
   ]
  }
 ],
 "metadata": {
  "kernelspec": {
   "display_name": "Python 2",
   "language": "python",
   "name": "python2"
  },
  "language_info": {
   "codemirror_mode": {
    "name": "ipython",
    "version": 2
   },
   "file_extension": ".py",
   "mimetype": "text/x-python",
   "name": "python",
   "nbconvert_exporter": "python",
   "pygments_lexer": "ipython2",
   "version": "2.7.11"
  }
 },
 "nbformat": 4,
 "nbformat_minor": 0
}
